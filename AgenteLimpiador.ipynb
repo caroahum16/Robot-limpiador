{
 "cells": [
  {
   "cell_type": "code",
   "execution_count": 204,
   "metadata": {},
   "outputs": [],
   "source": [
    "import agentpy as ap\n",
    "import random as rdm"
   ]
  },
  {
   "cell_type": "code",
   "execution_count": 205,
   "metadata": {},
   "outputs": [],
   "source": [
    "class CleaningRobot(ap.Agent):\n",
    "\n",
    "    def setup(self):\n",
    "        self.moves = 0\n",
    "        self.nextMovement = None\n",
    "\n",
    "    def getNextMove(self, x, y, limitX, limitY, unavailable):\n",
    "        options = self.possible_moves(\n",
    "            x,\n",
    "            y,\n",
    "            limitX, \n",
    "            limitY,\n",
    "            unavailable\n",
    "        )\n",
    "        \n",
    "        if len(options) != 0:\n",
    "            self.nextMovement = self.model.random.choices(options)[0]\n",
    "\n",
    "    def possible_moves(self, x, y, limitX, limitY, unavailable):\n",
    "        a = []\n",
    "        validMovement = []\n",
    "\n",
    "        for possibleX in [x, x + 1, x - 1]:\n",
    "            for possibleY in [y, y + 1, y - 1]:\n",
    "                a.append((possibleX, possibleY))\n",
    "                if ((possibleX, possibleY) not in unavailable) and\\\n",
    "                    (possibleX < limitX and possibleX >= 0) and\\\n",
    "                    (possibleY < limitY and possibleY >= 0) and\\\n",
    "                    (possibleY != y or possibleX != x):\n",
    "                        validMovement.append((possibleX, possibleY))\n",
    "\n",
    "        return validMovement\n"
   ]
  },
  {
   "cell_type": "code",
   "execution_count": 206,
   "metadata": {},
   "outputs": [],
   "source": [
    "class CleaningModel(ap.Model):\n",
    "    \n",
    "    def setup(self):\n",
    "\n",
    "#Create agents (robots)\n",
    "        self.agents = ap.AgentList(\n",
    "            self,\n",
    "            self.p[\"agents\"], \n",
    "            CleaningRobot\n",
    "        )\n",
    "\n",
    "#Create grid(donde limpian)\n",
    "        self.floor = ap.Grid(\n",
    "            self,\n",
    "            (self.p['M'], self.p['N']), track_empty=True, check_border=False\n",
    "        )\n",
    "\n",
    "        self.floor.add_agents(\n",
    "            self.agents, [(1,1)] * self.p[\"agents\"], empty=True\n",
    "        )\n",
    "\n",
    "#Create dirty tiles\n",
    "#Estado 0: Limpio, 1: Sucio\n",
    "        self.dirtyTiles = 0\n",
    "        self.remainingTiles = 0\n",
    "        self.time = self.p[\"steps\"]\n",
    "        self.floor.add_field(\"state\", -1)\n",
    "\n",
    "        #Creates tiles in random pos\n",
    "        for y in range(self.p['M']):\n",
    "            for x in range(self.p['N']):\n",
    "                self.floor[\"state\"][y][x] = rdm.choices((0,1), [1-self.p[\"avgSucio\"], self.p[\"avgSucio\"]])[0]\n",
    "                \n",
    "                if self.floor[\"state\"][y][x] == 1:\n",
    "                    self.dirtyTiles += 1\n",
    "\n",
    "        self.remainingTiles = self.dirtyTiles\n",
    "\n",
    "    def step(self):\n",
    "        for clean in self.agents:\n",
    "            x = self.floor.positions[clean][0]\n",
    "            y = self.floor.positions[clean][1]\n",
    "\n",
    "            # tile is dirty.\n",
    "            if self.floor[\"state\"][y][x] == 1:\n",
    "                self.floor[\"state\"][y][x] = 0\n",
    "                self.remainingTiles -= 1\n",
    "\n",
    "            else: # tile is clean\n",
    "                if clean.nextMovement == (x, y) or clean.nextMovement is None: # future move hasn't been calc.\n",
    "                    clean.getNextMove(\n",
    "                        x,\n",
    "                        y,\n",
    "                        self.p['M'],\n",
    "                        self.p['N'],\n",
    "                        [\n",
    "                            self.floor.positions[neighbor]\n",
    "                            for neighbor in self.floor.neighbors(clean)\n",
    "                        ]\n",
    "                    )\n",
    "\n",
    "                else: # future move is already calc.\n",
    "                    clean.moves += 1\n",
    "                    self.floor.move_to(clean, clean.nextMovement)\n",
    "\n",
    "        self.time -= 1\n",
    "\n",
    "        if self.remainingTiles == 0 or self.time < 1:\n",
    "            self.stop()\n",
    "\n",
    "    def end(self):\n",
    "        self.report(\n",
    "            [\"steps\"],\n",
    "            self.p[\"steps\"] - self.time\n",
    "        )\n",
    "\n",
    "        self.report(\n",
    "            [\"moves\"],\n",
    "            self.agents[0].moves\n",
    "        )\n",
    "\n",
    "        self.report([\"cleaned\"], str(int((self.dirtyTiles - self.remainingTiles) / self.dirtyTiles * 100)) + '%')\n",
    "\n"
   ]
  },
  {
   "cell_type": "code",
   "execution_count": 207,
   "metadata": {},
   "outputs": [],
   "source": [
    "# Define parameters\n",
    "parameters = {\n",
    "    'agents': 20,\n",
    "    'M': 12,\n",
    "    'N': 12,\n",
    "    'steps': 100,\n",
    "    'avgSucio': .9\n",
    "}\n"
   ]
  },
  {
   "cell_type": "code",
   "execution_count": 208,
   "metadata": {},
   "outputs": [
    {
     "name": "stdout",
     "output_type": "stream",
     "text": [
      "Completed: 100 steps\n",
      "Run time: 0:00:00.046872\n",
      "Simulation finished\n"
     ]
    }
   ],
   "source": [
    "model = CleaningModel(parameters)\n",
    "results = model.run()\n"
   ]
  },
  {
   "cell_type": "code",
   "execution_count": 209,
   "metadata": {},
   "outputs": [
    {
     "name": "stdout",
     "output_type": "stream",
     "text": [
      "100\n",
      "65%\n",
      "49\n"
     ]
    }
   ],
   "source": [
    "print(results.reporters[\"steps\"][0])\n",
    "print(results.reporters[\"cleaned\"][0])\n",
    "print(results.reporters[\"moves\"][0])\n"
   ]
  }
 ],
 "metadata": {
  "interpreter": {
   "hash": "916dbcbb3f70747c44a77c7bcd40155683ae19c65e1c03b4aa3499c5328201f1"
  },
  "kernelspec": {
   "display_name": "Python 3.8.10 64-bit",
   "language": "python",
   "name": "python3"
  },
  "language_info": {
   "codemirror_mode": {
    "name": "ipython",
    "version": 3
   },
   "file_extension": ".py",
   "mimetype": "text/x-python",
   "name": "python",
   "nbconvert_exporter": "python",
   "pygments_lexer": "ipython3",
   "version": "3.10.0"
  },
  "orig_nbformat": 4
 },
 "nbformat": 4,
 "nbformat_minor": 2
}
